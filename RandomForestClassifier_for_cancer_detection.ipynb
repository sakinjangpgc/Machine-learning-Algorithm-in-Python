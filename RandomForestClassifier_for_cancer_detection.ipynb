{
  "nbformat": 4,
  "nbformat_minor": 0,
  "metadata": {
    "colab": {
      "provenance": [],
      "authorship_tag": "ABX9TyNcxIr3f8XZ2dsRbc611kjs",
      "include_colab_link": true
    },
    "kernelspec": {
      "name": "python3",
      "display_name": "Python 3"
    },
    "language_info": {
      "name": "python"
    }
  },
  "cells": [
    {
      "cell_type": "markdown",
      "metadata": {
        "id": "view-in-github",
        "colab_type": "text"
      },
      "source": [
        "<a href=\"https://colab.research.google.com/github/sakinjangpgc/Machine-learning-Algorithm-in-Python/blob/main/RandomForestClassifier_for_cancer_detection.ipynb\" target=\"_parent\"><img src=\"https://colab.research.google.com/assets/colab-badge.svg\" alt=\"Open In Colab\"/></a>"
      ]
    },
    {
      "cell_type": "code",
      "execution_count": 1,
      "metadata": {
        "colab": {
          "base_uri": "https://localhost:8080/"
        },
        "id": "NofaNl9abe0O",
        "outputId": "f2ac785c-dc14-4b46-f412-0d8e81276320"
      },
      "outputs": [
        {
          "output_type": "stream",
          "name": "stdout",
          "text": [
            "PCA(n_components=20)\n"
          ]
        }
      ],
      "source": [
        "#load libraries and set option\n",
        "import numpy as np\n",
        "import pandas as pd\n",
        "import matplotlib.pyplot as plt\n",
        "from scipy.stats import norm\n",
        "import seaborn as sns\n",
        "from sklearn.preprocessing import LabelEncoder,StandardScaler\n",
        "from sklearn.model_selection import train_test_split, cross_val_score\n",
        "from sklearn.decomposition import PCA\n",
        "#supervised learning\n",
        "from sklearn.svm import SVC\n",
        "from sklearn.pipeline import make_pipeline\n",
        "from sklearn.metrics import confusion_matrix, classification_report\n",
        "from sklearn import metrics, preprocessing\n",
        "df=pd.read_csv('/content/data.csv', index_col=False)\n",
        "df.drop('Unnamed: 32',axis=1,inplace= True)\n",
        "df.drop('id',axis=1, inplace=True)\n",
        "\n",
        "\n",
        "array=df.values\n",
        "x=array[:,1:31]\n",
        "y=array[:,0]\n",
        "#tronsform the class labels from therir orignal string representation M and B into integer\n",
        "le=LabelEncoder()\n",
        "y=le.fit_transform(y)\n",
        "#split the dataset in train and test group\n",
        "xtrain,xtest,ytrain,ytest=train_test_split(x,y,test_size=.25, random_state=7)\n",
        "#To print the shape of data\n",
        "xtrain.shape, ytrain.shape,xtest.shape,ytest.shape\n",
        "#feature standarization\n",
        "from sklearn.preprocessing import StandardScaler\n",
        "scale=StandardScaler()\n",
        "x=scale.fit_transform(x)\n",
        "# To reduce the daimentnality to only 20 features we have\n",
        "pca=PCA(n_components=20)\n",
        "pca=pca.fit(x)\n",
        "print(pca)"
      ]
    },
    {
      "cell_type": "markdown",
      "source": [],
      "metadata": {
        "id": "yjzXd-gxytqA"
      }
    },
    {
      "cell_type": "code",
      "source": [
        "from google.colab import drive\n",
        "drive.mount('/content/drive')"
      ],
      "metadata": {
        "colab": {
          "base_uri": "https://localhost:8080/"
        },
        "id": "j2P0JJGYwMvy",
        "outputId": "f857d6ad-2ca3-4134-ed13-8c85da2f409c"
      },
      "execution_count": 2,
      "outputs": [
        {
          "output_type": "stream",
          "name": "stdout",
          "text": [
            "Mounted at /content/drive\n"
          ]
        }
      ]
    },
    {
      "cell_type": "code",
      "source": [
        "from sklearn.ensemble import RandomForestClassifier\n",
        "clf3=RandomForestClassifier(n_estimators=10)\n",
        "clf3.fit(xtrain, ytrain)\n",
        "#analyes accuraccy of prediction on test data\n",
        "classifier_score=clf3.score(xtest,ytest)\n",
        "print(\"The classifier accuracty is {:03.2f}\".format(classifier_score))"
      ],
      "metadata": {
        "colab": {
          "base_uri": "https://localhost:8080/"
        },
        "id": "7bOFUPt9duM8",
        "outputId": "60541a8e-1857-4aba-ec85-c3ec2bfdfce5"
      },
      "execution_count": 3,
      "outputs": [
        {
          "output_type": "stream",
          "name": "stdout",
          "text": [
            "The classifier accuracty is 0.97\n"
          ]
        }
      ]
    },
    {
      "cell_type": "code",
      "source": [
        "ypred=clf3.predict(xtest)\n",
        "# The confusion matrix helps visualize the performance of the algorithm.\n",
        "cm = metrics.confusion_matrix(ytest, ypred)\n",
        "\n",
        "fig, axs = plt.subplots(figsize=(3, 3))\n",
        "axs.matshow(cm, alpha=0.3)\n",
        "for i in range(cm.shape[0]):\n",
        "     for j in range(cm.shape[1]):\n",
        "         axs.text(x=j, y=i,\n",
        "                s=cm[i, j],\n",
        "                va='center', ha='center')\n",
        "plt.xlabel('Predicted Values', )\n",
        "plt.ylabel('Actual Values')\n",
        "plt.title('RandomForest', size=20)\n",
        "plt.show()\n",
        "print(classification_report(ytest, ypred ))"
      ],
      "metadata": {
        "colab": {
          "base_uri": "https://localhost:8080/",
          "height": 502
        },
        "id": "--L1vqFSceEy",
        "outputId": "1e3b17c3-8d37-47d0-ef45-49177dbaab2d"
      },
      "execution_count": 4,
      "outputs": [
        {
          "output_type": "display_data",
          "data": {
            "text/plain": [
              "<Figure size 300x300 with 1 Axes>"
            ],
            "image/png": "[encoded data removed]"
          },
          "metadata": {}
        },
        {
          "output_type": "stream",
          "name": "stdout",
          "text": [
            "              precision    recall  f1-score   support\n",
            "\n",
            "           0       0.95      1.00      0.98        98\n",
            "           1       1.00      0.89      0.94        45\n",
            "\n",
            "    accuracy                           0.97       143\n",
            "   macro avg       0.98      0.94      0.96       143\n",
            "weighted avg       0.97      0.97      0.96       143\n",
            "\n"
          ]
        }
      ]
    },
    {
      "cell_type": "code",
      "source": [],
      "metadata": {
        "id": "V747j2-uxSG2"
      },
      "execution_count": null,
      "outputs": []
    }
  ]
}